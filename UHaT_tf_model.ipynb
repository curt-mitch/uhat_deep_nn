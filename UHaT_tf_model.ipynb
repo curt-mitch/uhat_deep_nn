{
 "cells": [
  {
   "cell_type": "code",
   "execution_count": 1,
   "metadata": {},
   "outputs": [],
   "source": [
    "import tensorflow as tf\n",
    "import numpy as np\n",
    "from sklearn.utils import shuffle\n",
    "\n",
    "%matplotlib inline\n",
    "import matplotlib.pyplot as plt"
   ]
  },
  {
   "cell_type": "code",
   "execution_count": 2,
   "metadata": {},
   "outputs": [],
   "source": [
    "# load uhat dataset\n",
    "with np.load('uhat_dataset.npz') as data:\n",
    "    train_data = data['x_chars_train']\n",
    "    test_data = data['x_chars_test']\n",
    "    train_labels = data['y_chars_train']\n",
    "    test_labels = data['y_chars_test']"
   ]
  },
  {
   "cell_type": "code",
   "execution_count": 3,
   "metadata": {},
   "outputs": [],
   "source": [
    "# normalize image data and add make sure image shape is (28, 28, 1)\n",
    "train_data = train_data / 255.0\n",
    "test_data = test_data / 255.0\n",
    "train_data = np.expand_dims(train_data, -1)\n",
    "test_data = np.expand_dims(test_data, -1)"
   ]
  },
  {
   "cell_type": "code",
   "execution_count": 4,
   "metadata": {},
   "outputs": [],
   "source": [
    "train_data, train_labels = shuffle(train_data, train_labels, random_state=0)\n",
    "test_data, test_labels = shuffle(test_data, test_labels, random_state=0)"
   ]
  },
  {
   "cell_type": "code",
   "execution_count": 5,
   "metadata": {},
   "outputs": [],
   "source": [
    "num_classes = 40\n",
    "input_shape = (28, 28, 1)"
   ]
  },
  {
   "cell_type": "code",
   "execution_count": 6,
   "metadata": {},
   "outputs": [
    {
     "data": {
      "text/plain": [
       "(28328, 28, 28, 1)"
      ]
     },
     "execution_count": 6,
     "metadata": {},
     "output_type": "execute_result"
    }
   ],
   "source": [
    "train_data.shape"
   ]
  },
  {
   "cell_type": "code",
   "execution_count": 7,
   "metadata": {},
   "outputs": [
    {
     "name": "stdout",
     "output_type": "stream",
     "text": [
      "27\n"
     ]
    },
    {
     "data": {
      "text/plain": [
       "<matplotlib.colorbar.Colorbar at 0x7fd9aef1e510>"
      ]
     },
     "execution_count": 7,
     "metadata": {},
     "output_type": "execute_result"
    },
    {
     "data": {
      "image/png": "[encoded data removed]",
      "text/plain": [
       "<Figure size 432x288 with 2 Axes>"
      ]
     },
     "metadata": {
      "needs_background": "light"
     },
     "output_type": "display_data"
    }
   ],
   "source": [
    "print(train_labels[0])\n",
    "\n",
    "plt.imshow(train_data[0, :, :, 0])\n",
    "plt.colorbar()"
   ]
  },
  {
   "cell_type": "code",
   "execution_count": 8,
   "metadata": {},
   "outputs": [],
   "source": [
    "model = tf.keras.models.Sequential([\n",
    "    tf.keras.Input(shape=input_shape),\n",
    "    tf.keras.layers.Conv2D(32, (3,3), activation='relu',\n",
    "                          input_shape=(28,28,1)),\n",
    "    tf.keras.layers.MaxPool2D((2,2)),\n",
    "    tf.keras.layers.Conv2D(64, kernel_size=(3, 3), activation=\"relu\"),\n",
    "    tf.keras.layers.MaxPooling2D(pool_size=(2, 2)),\n",
    "    tf.keras.layers.Flatten(),\n",
    "    tf.keras.layers.Dense(128, activation='relu'),\n",
    "    tf.keras.layers.Dropout(0.25),\n",
    "    tf.keras.layers.Dense(40, activation='softmax')\n",
    "])"
   ]
  },
  {
   "cell_type": "code",
   "execution_count": 9,
   "metadata": {},
   "outputs": [],
   "source": [
    "model.compile(optimizer='adam',\n",
    "              loss='sparse_categorical_crossentropy',\n",
    "              metrics=['accuracy'])"
   ]
  },
  {
   "cell_type": "code",
   "execution_count": 10,
   "metadata": {},
   "outputs": [
    {
     "name": "stdout",
     "output_type": "stream",
     "text": [
      "Model: \"sequential\"\n",
      "_________________________________________________________________\n",
      "Layer (type)                 Output Shape              Param #   \n",
      "=================================================================\n",
      "conv2d (Conv2D)              (None, 26, 26, 32)        320       \n",
      "_________________________________________________________________\n",
      "max_pooling2d (MaxPooling2D) (None, 13, 13, 32)        0         \n",
      "_________________________________________________________________\n",
      "conv2d_1 (Conv2D)            (None, 11, 11, 64)        18496     \n",
      "_________________________________________________________________\n",
      "max_pooling2d_1 (MaxPooling2 (None, 5, 5, 64)          0         \n",
      "_________________________________________________________________\n",
      "flatten (Flatten)            (None, 1600)              0         \n",
      "_________________________________________________________________\n",
      "dense (Dense)                (None, 128)               204928    \n",
      "_________________________________________________________________\n",
      "dropout (Dropout)            (None, 128)               0         \n",
      "_________________________________________________________________\n",
      "dense_1 (Dense)              (None, 40)                5160      \n",
      "=================================================================\n",
      "Total params: 228,904\n",
      "Trainable params: 228,904\n",
      "Non-trainable params: 0\n",
      "_________________________________________________________________\n"
     ]
    }
   ],
   "source": [
    "model.summary()"
   ]
  },
  {
   "cell_type": "code",
   "execution_count": 11,
   "metadata": {},
   "outputs": [
    {
     "name": "stdout",
     "output_type": "stream",
     "text": [
      "Epoch 1/25\n",
      "200/200 [==============================] - 9s 47ms/step - loss: 1.8140 - accuracy: 0.4703 - val_loss: 0.8792 - val_accuracy: 0.7381\n",
      "Epoch 2/25\n",
      "200/200 [==============================] - 9s 44ms/step - loss: 0.8100 - accuracy: 0.7448 - val_loss: 0.5513 - val_accuracy: 0.8330\n",
      "Epoch 3/25\n",
      "200/200 [==============================] - 10s 48ms/step - loss: 0.5619 - accuracy: 0.8216 - val_loss: 0.4080 - val_accuracy: 0.8761\n",
      "Epoch 4/25\n",
      "200/200 [==============================] - 9s 47ms/step - loss: 0.4416 - accuracy: 0.8591 - val_loss: 0.3529 - val_accuracy: 0.8916\n",
      "Epoch 5/25\n",
      "200/200 [==============================] - 10s 48ms/step - loss: 0.3674 - accuracy: 0.8823 - val_loss: 0.3109 - val_accuracy: 0.9001\n",
      "Epoch 6/25\n",
      "200/200 [==============================] - 9s 46ms/step - loss: 0.3091 - accuracy: 0.8999 - val_loss: 0.2971 - val_accuracy: 0.9068\n",
      "Epoch 7/25\n",
      "200/200 [==============================] - 9s 47ms/step - loss: 0.2627 - accuracy: 0.9155 - val_loss: 0.2643 - val_accuracy: 0.9135\n",
      "Epoch 8/25\n",
      "200/200 [==============================] - 10s 48ms/step - loss: 0.2315 - accuracy: 0.9245 - val_loss: 0.2433 - val_accuracy: 0.9223\n",
      "Epoch 9/25\n",
      "200/200 [==============================] - 9s 46ms/step - loss: 0.1998 - accuracy: 0.9352 - val_loss: 0.2351 - val_accuracy: 0.9227\n",
      "Epoch 10/25\n",
      "200/200 [==============================] - 10s 52ms/step - loss: 0.1812 - accuracy: 0.9400 - val_loss: 0.2234 - val_accuracy: 0.9283\n",
      "Epoch 11/25\n",
      "200/200 [==============================] - 10s 49ms/step - loss: 0.1693 - accuracy: 0.9446 - val_loss: 0.2268 - val_accuracy: 0.9305\n",
      "Epoch 12/25\n",
      "200/200 [==============================] - 10s 48ms/step - loss: 0.1491 - accuracy: 0.9513 - val_loss: 0.2363 - val_accuracy: 0.9220\n",
      "Epoch 13/25\n",
      "200/200 [==============================] - 9s 46ms/step - loss: 0.1325 - accuracy: 0.9560 - val_loss: 0.2229 - val_accuracy: 0.9315\n",
      "Epoch 14/25\n",
      "200/200 [==============================] - 9s 44ms/step - loss: 0.1198 - accuracy: 0.9592 - val_loss: 0.2373 - val_accuracy: 0.9273\n",
      "Epoch 15/25\n",
      "200/200 [==============================] - 9s 44ms/step - loss: 0.1119 - accuracy: 0.9629 - val_loss: 0.2404 - val_accuracy: 0.9283\n",
      "Epoch 16/25\n",
      "200/200 [==============================] - 9s 45ms/step - loss: 0.0993 - accuracy: 0.9670 - val_loss: 0.2295 - val_accuracy: 0.9319\n",
      "Epoch 17/25\n",
      "200/200 [==============================] - 9s 47ms/step - loss: 0.0940 - accuracy: 0.9681 - val_loss: 0.2413 - val_accuracy: 0.9319\n",
      "Epoch 18/25\n",
      "200/200 [==============================] - 10s 48ms/step - loss: 0.0872 - accuracy: 0.9712 - val_loss: 0.2327 - val_accuracy: 0.9354\n",
      "Epoch 19/25\n",
      "200/200 [==============================] - 9s 45ms/step - loss: 0.0765 - accuracy: 0.9739 - val_loss: 0.2277 - val_accuracy: 0.9354\n",
      "Epoch 20/25\n",
      "200/200 [==============================] - 9s 46ms/step - loss: 0.0788 - accuracy: 0.9729 - val_loss: 0.2378 - val_accuracy: 0.9343\n",
      "Epoch 21/25\n",
      "200/200 [==============================] - 10s 48ms/step - loss: 0.0722 - accuracy: 0.9754 - val_loss: 0.2427 - val_accuracy: 0.9361\n",
      "Epoch 22/25\n",
      "200/200 [==============================] - 9s 47ms/step - loss: 0.0688 - accuracy: 0.9764 - val_loss: 0.2298 - val_accuracy: 0.9365\n",
      "Epoch 23/25\n",
      "200/200 [==============================] - 9s 47ms/step - loss: 0.0662 - accuracy: 0.9767 - val_loss: 0.2353 - val_accuracy: 0.9336\n",
      "Epoch 24/25\n",
      "200/200 [==============================] - 9s 46ms/step - loss: 0.0571 - accuracy: 0.9807 - val_loss: 0.2363 - val_accuracy: 0.9382\n",
      "Epoch 25/25\n",
      "200/200 [==============================] - 10s 51ms/step - loss: 0.0561 - accuracy: 0.9812 - val_loss: 0.2261 - val_accuracy: 0.9396\n"
     ]
    },
    {
     "data": {
      "text/plain": [
       "<tensorflow.python.keras.callbacks.History at 0x7fd98ce48ad0>"
      ]
     },
     "execution_count": 11,
     "metadata": {},
     "output_type": "execute_result"
    }
   ],
   "source": [
    "batch_size = 128\n",
    "epochs = 25\n",
    "\n",
    "model.fit(train_data, train_labels, batch_size=batch_size, epochs=epochs, validation_split=0.1)"
   ]
  },
  {
   "cell_type": "code",
   "execution_count": 12,
   "metadata": {},
   "outputs": [
    {
     "name": "stdout",
     "output_type": "stream",
     "text": [
      "153/153 - 0s - loss: 0.1444 - accuracy: 0.9568\n"
     ]
    },
    {
     "data": {
      "text/plain": [
       "[0.14443522691726685, 0.9567623138427734]"
      ]
     },
     "execution_count": 12,
     "metadata": {},
     "output_type": "execute_result"
    }
   ],
   "source": [
    "model.evaluate(test_data, test_labels, verbose=2)"
   ]
  },
  {
   "cell_type": "code",
   "execution_count": 13,
   "metadata": {},
   "outputs": [
    {
     "name": "stdout",
     "output_type": "stream",
     "text": [
      "WARNING:tensorflow:From /Users/curtismitchell/opt/anaconda3/lib/python3.7/site-packages/tensorflow/python/ops/resource_variable_ops.py:1817: calling BaseResourceVariable.__init__ (from tensorflow.python.ops.resource_variable_ops) with constraint is deprecated and will be removed in a future version.\n",
      "Instructions for updating:\n",
      "If using Keras pass *_constraint arguments to layers.\n",
      "INFO:tensorflow:Assets written to: uhat.m5/assets\n"
     ]
    }
   ],
   "source": [
    "model.save('uhat.m5')"
   ]
  },
  {
   "cell_type": "code",
   "execution_count": null,
   "metadata": {},
   "outputs": [],
   "source": []
  }
 ],
 "metadata": {
  "kernelspec": {
   "display_name": "Python 3",
   "language": "python",
   "name": "python3"
  },
  "language_info": {
   "codemirror_mode": {
    "name": "ipython",
    "version": 3
   },
   "file_extension": ".py",
   "mimetype": "text/x-python",
   "name": "python",
   "nbconvert_exporter": "python",
   "pygments_lexer": "ipython3",
   "version": "3.7.7"
  }
 },
 "nbformat": 4,
 "nbformat_minor": 4
}
